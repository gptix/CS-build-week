{
 "cells": [
  {
   "cell_type": "code",
   "execution_count": null,
   "metadata": {},
   "outputs": [],
   "source": [
    "# Singly-linked lists are already defined with this interface:\n",
    "class ListNode(object):\n",
    "  def __init__(self, x):\n",
    "    self.value = x\n",
    "    self.next = None\n",
    "    \n",
    "vals = [3, 1, 2, 3, 4,5]\n",
    "# vals = [1000,1000]\n",
    "# vals = []\n",
    "print(vals)\n",
    "if vals:\n",
    "    linked_list = ListNode(vals.pop(0))\n",
    "    curr = linked_list\n",
    "    for v in vals:\n",
    "        curr.next = ListNode(vals.pop(0))\n",
    "        ptr = ptr.next\n",
    "else:\n",
    "    linked_list = None\n",
    "\n",
    "\n",
    "def removeKFromList(l, k):\n",
    "        \n",
    "    if not l:\n",
    "        print('no val')\n",
    "        return None\n",
    "        \n",
    "    head = l\n",
    "    curr = l\n",
    "    prev = None\n",
    "\n",
    "    while curr:\n",
    "        if curr.value == k:\n",
    "            print(f'l = {l}')\n",
    "            if prev:\n",
    "                print(f'curr = {curr}')\n",
    "                prev.next = curr.next\n",
    "                print(f'curr = {curr}')\n",
    "            else:\n",
    "                print(f'head before = {curr}')\n",
    "                head = curr.next\n",
    "                print(f'head after = {curr}')\n",
    "                input()\n",
    "        else:\n",
    "            prev = curr\n",
    "            curr = curr.next\n",
    "            \n",
    "        input()\n",
    "            \n",
    "            \n",
    "foo = removeKFromList(linked_list, 3)\n",
    "print(foo)"
   ]
  },
  {
   "cell_type": "code",
   "execution_count": 21,
   "metadata": {},
   "outputs": [
    {
     "data": {
      "text/plain": [
       "5"
      ]
     },
     "execution_count": 21,
     "metadata": {},
     "output_type": "execute_result"
    }
   ],
   "source": [
    "linked_list.next.value"
   ]
  },
  {
   "cell_type": "code",
   "execution_count": null,
   "metadata": {},
   "outputs": [],
   "source": []
  }
 ],
 "metadata": {
  "kernelspec": {
   "display_name": "Python 3",
   "language": "python",
   "name": "python3"
  },
  "language_info": {
   "codemirror_mode": {
    "name": "ipython",
    "version": 3
   },
   "file_extension": ".py",
   "mimetype": "text/x-python",
   "name": "python",
   "nbconvert_exporter": "python",
   "pygments_lexer": "ipython3",
   "version": "3.7.6"
  }
 },
 "nbformat": 4,
 "nbformat_minor": 4
}
