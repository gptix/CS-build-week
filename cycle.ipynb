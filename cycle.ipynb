{
 "cells": [
  {
   "cell_type": "code",
   "execution_count": null,
   "metadata": {},
   "outputs": [],
   "source": [
    "# Definition for singly-linked list.\n",
    "# class ListNode:\n",
    "#     def __init__(self, x):\n",
    "#         self.val = x\n",
    "#         self.next = None\n",
    "\n",
    "class Solution:\n",
    "    def detectCycle(self, head: ListNode) -> ListNode:\n",
    "        \n",
    "        visited = set()\n",
    "        \n",
    "        while head:\n",
    "            # if head is in visited, there is a cycle, and\n",
    "            # this is the node to return.\n",
    "            if head in visited:\n",
    "                return head\n",
    "            \n",
    "            # We need to record that we have visited this node.\n",
    "            else:\n",
    "                visited.add(head)\n",
    "                head = head.next\n",
    "        \n",
    "        # if we get here, there is no cycle.\n",
    "        return None\n",
    "        "
   ]
  }
 ],
 "metadata": {
  "kernelspec": {
   "display_name": "Python 3",
   "language": "python",
   "name": "python3"
  },
  "language_info": {
   "codemirror_mode": {
    "name": "ipython",
    "version": 3
   },
   "file_extension": ".py",
   "mimetype": "text/x-python",
   "name": "python",
   "nbconvert_exporter": "python",
   "pygments_lexer": "ipython3",
   "version": "3.7.6"
  }
 },
 "nbformat": 4,
 "nbformat_minor": 4
}
