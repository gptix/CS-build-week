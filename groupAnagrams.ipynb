{
 "cells": [
  {
   "cell_type": "code",
   "execution_count": 33,
   "metadata": {},
   "outputs": [],
   "source": [
    "input = [\"eat\", \"tea\", \"tan\", \"ate\", \"nat\", \"bat\"]"
   ]
  },
  {
   "cell_type": "code",
   "execution_count": 35,
   "metadata": {},
   "outputs": [],
   "source": [
    "class Solution:\n",
    "#     def groupAnagrams(self, strs: List[str]) -> List[List[str]]:\n",
    "    def groupAnagrams(self, strs):\n",
    "        \n",
    "        dic = {}\n",
    "        for el in strs:\n",
    "            # calculate key\n",
    "            key = list(el)\n",
    "            key.sort()\n",
    "            key = ''.join(key)\n",
    "            if key in dic:\n",
    "                dic[key].append(el)\n",
    "            else:\n",
    "                dic[key] = [el]\n",
    "\n",
    "        return [v for v in dic.values()]"
   ]
  },
  {
   "cell_type": "code",
   "execution_count": null,
   "metadata": {},
   "outputs": [],
   "source": []
  }
 ],
 "metadata": {
  "kernelspec": {
   "display_name": "Python 3",
   "language": "python",
   "name": "python3"
  },
  "language_info": {
   "codemirror_mode": {
    "name": "ipython",
    "version": 3
   },
   "file_extension": ".py",
   "mimetype": "text/x-python",
   "name": "python",
   "nbconvert_exporter": "python",
   "pygments_lexer": "ipython3",
   "version": "3.7.6"
  }
 },
 "nbformat": 4,
 "nbformat_minor": 4
}
