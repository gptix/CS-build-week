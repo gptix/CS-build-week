{
 "cells": [
  {
   "cell_type": "code",
   "execution_count": 18,
   "metadata": {},
   "outputs": [
    {
     "data": {
      "text/plain": [
       "'c'"
      ]
     },
     "execution_count": 18,
     "metadata": {},
     "output_type": "execute_result"
    }
   ],
   "source": [
    "test_string = \"abacabad\"\n",
    "\n",
    "def first_not_repeating_character(s):\n",
    "    retval = '-'\n",
    "    tally = {}\n",
    "    chars = list(s)\n",
    "    \n",
    "    for char in chars:\n",
    "        if char not in tally:\n",
    "            tally[char] = 0\n",
    "        tally[char] += 1\n",
    "    \n",
    "    non_repeats = set([char for char, count in tally.items() if count == 1])\n",
    "    \n",
    "    for char in chars:\n",
    "        if char in non_repeats:\n",
    "            return char\n",
    "\n",
    "    return '-' \n",
    "\n",
    "\n",
    "foo = first_not_repeating_character(test_string)\n",
    "\n",
    "foo"
   ]
  },
  {
   "cell_type": "code",
   "execution_count": null,
   "metadata": {},
   "outputs": [],
   "source": []
  }
 ],
 "metadata": {
  "kernelspec": {
   "display_name": "Python 3",
   "language": "python",
   "name": "python3"
  },
  "language_info": {
   "codemirror_mode": {
    "name": "ipython",
    "version": 3
   },
   "file_extension": ".py",
   "mimetype": "text/x-python",
   "name": "python",
   "nbconvert_exporter": "python",
   "pygments_lexer": "ipython3",
   "version": "3.7.6"
  }
 },
 "nbformat": 4,
 "nbformat_minor": 4
}
