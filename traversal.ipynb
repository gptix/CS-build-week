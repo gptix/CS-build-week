{
 "cells": [
  {
   "cell_type": "code",
   "execution_count": null,
   "metadata": {},
   "outputs": [],
   "source": [
    "# Definition for a binary tree node.\n",
    "# class TreeNode:\n",
    "#     def __init__(self, val=0, left=None, right=None):\n",
    "#         self.val = val\n",
    "#         self.left = left\n",
    "#         self.right = right\n",
    "class Solution:\n",
    "    \n",
    "    def inorderTraversal(self, root: TreeNode) -> List[int]:\n",
    "        \n",
    "        if not root:\n",
    "            return None\n",
    "        \n",
    "        visited = []        \n",
    "        self.df_traversal(root, visited)\n",
    "        return visited\n",
    "        \n",
    "    def df_traversal(self, root, visited):\n",
    "        if root.left:\n",
    "            self.df_traversal(root.left, visited)\n",
    "\n",
    "        visited.append(root.val)\n",
    "\n",
    "        if root.right:\n",
    "            self.df_traversal(root.right, visited)\n"
   ]
  }
 ],
 "metadata": {
  "kernelspec": {
   "display_name": "Python 3",
   "language": "python",
   "name": "python3"
  },
  "language_info": {
   "codemirror_mode": {
    "name": "ipython",
    "version": 3
   },
   "file_extension": ".py",
   "mimetype": "text/x-python",
   "name": "python",
   "nbconvert_exporter": "python",
   "pygments_lexer": "ipython3",
   "version": "3.7.6"
  }
 },
 "nbformat": 4,
 "nbformat_minor": 4
}
