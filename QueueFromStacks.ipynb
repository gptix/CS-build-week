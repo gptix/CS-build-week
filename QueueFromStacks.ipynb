{
 "cells": [
  {
   "cell_type": "code",
   "execution_count": 1,
   "metadata": {},
   "outputs": [],
   "source": [
    "from collections import deque\n",
    "# https://docs.python.org/2/library/collections.html#deque-objects"
   ]
  },
  {
   "cell_type": "code",
   "execution_count": 125,
   "metadata": {},
   "outputs": [
    {
     "data": {
      "text/plain": [
       "1"
      ]
     },
     "execution_count": 125,
     "metadata": {},
     "output_type": "execute_result"
    }
   ],
   "source": [
    "class MyQueue:\n",
    "\n",
    "    def __init__(self):\n",
    "        self.stack1 = deque()\n",
    "        self.stack2 = deque()\n",
    "        \n",
    "    def push(self, x: int) -> None:\n",
    "        \"\"\"\n",
    "        Adds x to the right side of stack1.\n",
    "        \"\"\"\n",
    "        self.stack1.append(x)\n",
    "        \n",
    "    def pop(self) -> int:\n",
    "        \"\"\"\n",
    "        Removes and returns 'deepest' element from stack1.\n",
    "        \"\"\"\n",
    "        s1_len = len(self.stack1)\n",
    "        \n",
    "        if s1_len == 0:\n",
    "            return None\n",
    "        \n",
    "        # if s1_len == 1:\n",
    "        #     return self.stack1.pop()\n",
    "        \n",
    "        # more than one item, need to juggle.\n",
    "        # print(f'more than one')\n",
    "        for i in range(s1_len - 1):\n",
    "            popped = self.stack1.pop()\n",
    "            # print(f'popped: {popped}')\n",
    "            self.stack2.append(popped)\n",
    "            # self.stack2.append(self.stack1.pop())\n",
    "            # last item\n",
    "        val = self.stack1.pop()\n",
    "        # print(f'length after popping last: {len(self.stack1)}')\n",
    "        for i in range(len(self.stack2)):\n",
    "            popped = self.stack2.pop()\n",
    "            self.stack1.append(popped)\n",
    "        return val\n",
    "    \n",
    "    def peek(self) -> int:\n",
    "        \"\"\"\n",
    "        Get the front element.\n",
    "        \"\"\"\n",
    "        # pop all but the last items from stack1\n",
    "        for i in range(len(self.stack1) - 1):\n",
    "            popped = self.stack1.pop()\n",
    "#             print(f'popped: {popped}')\n",
    "            # and push onto stack2\n",
    "            self.stack2.append(popped)\n",
    "            \n",
    "            \n",
    "#         print(f'length after popping all but last: {len(self.stack1)}')\n",
    "        # get the deepest (FI) item from stack1 \n",
    "        val = self.stack1.pop()\n",
    "#         print(f'val: {val}')\n",
    "#         print(f'length after popping last: {len(self.stack1)}')      \n",
    "        # put item back on stack\n",
    "        self.stack1.append(val)\n",
    "#         print(f'length after pushing last item back onto stack: {len(self.stack1)}')\n",
    "#         print(f'length after putting it back: {len(self.stack1)}')      \n",
    "        # replace all items from stack2 onto stack1\n",
    "        for i in range(len(self.stack2)):\n",
    "            popped = self.stack2.pop()\n",
    "            self.stack1.append(popped)\n",
    "        return val\n",
    "        \n",
    "    \n",
    "    def empty(self) -> bool:\n",
    "        \"\"\"\n",
    "        Returns whether the queue is empty.\n",
    "        \"\"\"\n",
    "        return len(self.stack1) == 0\n",
    "\n",
    "\n",
    "\n",
    "q = MyQueue()\n",
    "q.push(1)\n",
    "q.push(2)\n",
    "q.peek()"
   ]
  },
  {
   "cell_type": "code",
   "execution_count": 119,
   "metadata": {},
   "outputs": [
    {
     "data": {
      "text/plain": [
       "2"
      ]
     },
     "execution_count": 119,
     "metadata": {},
     "output_type": "execute_result"
    }
   ],
   "source": [
    "len(q.stack1)"
   ]
  },
  {
   "cell_type": "code",
   "execution_count": 121,
   "metadata": {},
   "outputs": [
    {
     "data": {
      "text/plain": [
       "2"
      ]
     },
     "execution_count": 121,
     "metadata": {},
     "output_type": "execute_result"
    }
   ],
   "source": [
    "q.stack1[1]"
   ]
  },
  {
   "cell_type": "code",
   "execution_count": 122,
   "metadata": {},
   "outputs": [
    {
     "name": "stdout",
     "output_type": "stream",
     "text": [
      "more than one\n",
      "popped: 2\n",
      "length after popping last: 0\n"
     ]
    },
    {
     "data": {
      "text/plain": [
       "1"
      ]
     },
     "execution_count": 122,
     "metadata": {},
     "output_type": "execute_result"
    }
   ],
   "source": [
    "q.pop()"
   ]
  },
  {
   "cell_type": "code",
   "execution_count": 123,
   "metadata": {},
   "outputs": [
    {
     "data": {
      "text/plain": [
       "2"
      ]
     },
     "execution_count": 123,
     "metadata": {},
     "output_type": "execute_result"
    }
   ],
   "source": [
    "q.pop()"
   ]
  },
  {
   "cell_type": "code",
   "execution_count": 79,
   "metadata": {},
   "outputs": [],
   "source": [
    "[\"MyQueue\",\"push\",\"push\",\"peek\",\"pop\",\"pop\",\"empty\"]\n",
    "[[],[1],[2],[],[],[],[]]"
   ]
  },
  {
   "cell_type": "code",
   "execution_count": 80,
   "metadata": {},
   "outputs": [
    {
     "data": {
      "text/plain": [
       "False"
      ]
     },
     "execution_count": 80,
     "metadata": {},
     "output_type": "execute_result"
    }
   ],
   "source": [
    "q.push(1)"
   ]
  },
  {
   "cell_type": "code",
   "execution_count": 71,
   "metadata": {},
   "outputs": [
    {
     "data": {
      "text/plain": [
       "1"
      ]
     },
     "execution_count": 71,
     "metadata": {},
     "output_type": "execute_result"
    }
   ],
   "source": []
  },
  {
   "cell_type": "code",
   "execution_count": 62,
   "metadata": {},
   "outputs": [
    {
     "data": {
      "text/plain": [
       "2"
      ]
     },
     "execution_count": 62,
     "metadata": {},
     "output_type": "execute_result"
    }
   ],
   "source": [
    "q.stack1.pop()"
   ]
  },
  {
   "cell_type": "code",
   "execution_count": null,
   "metadata": {},
   "outputs": [],
   "source": []
  }
 ],
 "metadata": {
  "kernelspec": {
   "display_name": "Python 3",
   "language": "python",
   "name": "python3"
  },
  "language_info": {
   "codemirror_mode": {
    "name": "ipython",
    "version": 3
   },
   "file_extension": ".py",
   "mimetype": "text/x-python",
   "name": "python",
   "nbconvert_exporter": "python",
   "pygments_lexer": "ipython3",
   "version": "3.7.6"
  }
 },
 "nbformat": 4,
 "nbformat_minor": 4
}
