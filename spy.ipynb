{
 "cells": [
  {
   "cell_type": "code",
   "execution_count": 20,
   "metadata": {},
   "outputs": [
    {
     "data": {
      "text/plain": [
       "-1"
      ]
     },
     "execution_count": 20,
     "metadata": {},
     "output_type": "execute_result"
    }
   ],
   "source": [
    "# In a city-state of n people, there is a rumor going around that one of the n people is a spy for the neighboring city-state.\n",
    "\n",
    "# The spy, if it exists:\n",
    "\n",
    "# Does not trust anyone else.\n",
    "# Is trusted by everyone else (he's good at his job).\n",
    "# Works alone; there are no other spies in the city-state.\n",
    "# You are given a list of pairs, trust. Each trust[i] = [a, b] represents the fact that\n",
    "# person a trusts person b.\n",
    "\n",
    "# If the spy exists and can be found, return their identifier. Otherwise, return -1.\n",
    "\n",
    "def uncover_spy(n, trust):\n",
    "    \n",
    "    trusted_tally = {}\n",
    "    \n",
    "    trusting_tally = {}\n",
    "    \n",
    "    n_cutoff = n -1\n",
    "    \n",
    "    # tally how many people trust each person\n",
    "    # [1,2] means 1 trusts 2\n",
    "    for trust_pair in trust:\n",
    "        person_trusted = trust_pair[1]\n",
    "        if person_trusted not in trusted_tally:\n",
    "            trusted_tally[person_trusted] = 0\n",
    "        trusted_tally[person_trusted] += 1\n",
    "        \n",
    "    # spy must be trusted by everyone (else)    \n",
    "    trusted_by_all = [person for person, count in trusted_tally.items() if count == n_cutoff]\n",
    "\n",
    "    for trust_pair in trust:   \n",
    "        trusting_person = trust_pair[0]\n",
    "        if trusting_person not in trusting_tally:\n",
    "            trusting_tally[trusting_person] = 0\n",
    "        trusting_tally[trusting_person] += 1\n",
    "\n",
    "    # trusts no one\n",
    "    and_trusts_no_one = [person for person in trusted_by_all if person not in trusting_tally]\n",
    "    \n",
    "    # there can be only one\n",
    "    if len(and_trusts_no_one) == 1:\n",
    "        return and_trusts_no_one[0]\n",
    "    else:\n",
    "        return -1\n",
    "\n",
    "# test_data = [[1, 2]]\n",
    "test_data = [[1, 3], [2, 3]]\n",
    "test_data = [[1, 3], [2, 3], [3, 1]]\n",
    "uncover_spy(3, test_data)"
   ]
  },
  {
   "cell_type": "code",
   "execution_count": null,
   "metadata": {},
   "outputs": [],
   "source": []
  }
 ],
 "metadata": {
  "kernelspec": {
   "display_name": "Python 3",
   "language": "python",
   "name": "python3"
  },
  "language_info": {
   "codemirror_mode": {
    "name": "ipython",
    "version": 3
   },
   "file_extension": ".py",
   "mimetype": "text/x-python",
   "name": "python",
   "nbconvert_exporter": "python",
   "pygments_lexer": "ipython3",
   "version": "3.7.6"
  }
 },
 "nbformat": 4,
 "nbformat_minor": 4
}
