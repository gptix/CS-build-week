{
 "cells": [
  {
   "cell_type": "code",
   "execution_count": 22,
   "metadata": {},
   "outputs": [],
   "source": [
    "def put_in_dict(num, idx, target, lookup):\n",
    "    if num not in lookup:\n",
    "        lookup[num] = ([idx], target - num)\n",
    "    else: \n",
    "        lookup[num][0].append(idx)\n",
    "    return None\n",
    "\n",
    "class Solution:\n",
    "    def twoSum(self, nums: List[int], target: int) -> List[int]:\n",
    "        idx = 0\n",
    "        lookup = {}\n",
    "        for n in nums:\n",
    "            put_in_dict(n, idx, target, lookup)\n",
    "            idx += 1\n",
    "\n",
    "        for num, specs in lookup.items():\n",
    "        # if the complement is in the lookup\n",
    "            if (specs[1] in lookup) and lookup:\n",
    "\n",
    "                # if the complement is not the same as the number\n",
    "                if not num == lookup[num][1]:\n",
    "                    # specs[0] is the list of indices\n",
    "                    # specs[0][0] is the first index, and, per \n",
    "                    # problem spec, the only one\n",
    "                    # specs[1] is the value of the complement\n",
    "                    # lookup[specs[1]] is the value of the complement\n",
    "                    # lookup[specs[1]][0] is the specs for the complement\n",
    "                    # lookup[specs[1]][0][0] is the index for the complement\n",
    "                    return [specs[0][0], lookup[specs[1]][0][0] ]\n",
    "\n",
    "                # the number is equal to its complement\n",
    "                # we need to see if there is more than one instance\n",
    "                if len(lookup[num][0]) > 1:\n",
    "                        # return the two indices for the number\n",
    "                        return specs[0][:2]\n",
    "\n",
    "                # otherwise, continue.  No fair using the same index twice.\n",
    "\n",
    "# Understand\n",
    "# A set of numbers\n",
    "# A target sum\n",
    "# examine numbers\n",
    "# store info about index, number, complement\n",
    "# Use dict for speed\n",
    "# Naive: examine each, look for complement in dict, if not found, place in dict (number, index, complement)\n",
    "# \n",
    "\n"
   ]
  },
  {
   "cell_type": "code",
   "execution_count": 23,
   "metadata": {},
   "outputs": [
    {
     "data": {
      "text/plain": [
       "[0, 3]"
      ]
     },
     "execution_count": 23,
     "metadata": {},
     "output_type": "execute_result"
    }
   ],
   "source": [
    "foo(test_lookup)"
   ]
  },
  {
   "cell_type": "code",
   "execution_count": null,
   "metadata": {},
   "outputs": [],
   "source": []
  }
 ],
 "metadata": {
  "kernelspec": {
   "display_name": "Python 3",
   "language": "python",
   "name": "python3"
  },
  "language_info": {
   "codemirror_mode": {
    "name": "ipython",
    "version": 3
   },
   "file_extension": ".py",
   "mimetype": "text/x-python",
   "name": "python",
   "nbconvert_exporter": "python",
   "pygments_lexer": "ipython3",
   "version": "3.7.6"
  }
 },
 "nbformat": 4,
 "nbformat_minor": 4
}
