{
 "cells": [
  {
   "cell_type": "code",
   "execution_count": null,
   "metadata": {},
   "outputs": [],
   "source": [
    "# Given an array of integers and an integer k, find out whether there \n",
    "# are two distinct indices i and j in the array such that nums[i] = nums[j] \n",
    "# and the absolute difference between i and j is at most k.\n",
    "    \n",
    "class Solution:       \n",
    "\n",
    "    # def __init__(self, nums, k):\n",
    "    #     self.nums = nums\n",
    "    #     # change the name of k to something meaningful\n",
    "    #     self.cutoff = k\n",
    "    #     return None\n",
    "\n",
    "    \n",
    "    def containsNearbyDuplicate(self, nums: List[int], k: int) -> bool:\n",
    "\n",
    "        # make dict: key = number -- val = list of indices\n",
    "        \n",
    "        self.tally = {}\n",
    "\n",
    "        # tally all occurrences of num - add index to list of indices\n",
    "        for idx in range(len(self.nums)):\n",
    "            num = self.nums[idx]\n",
    "            if num not in self.tally:\n",
    "                self.tally[num] = [idx]\n",
    "            else: \n",
    "                self.tally[num].append(idx)\n",
    "\n",
    "        # get kv pairs for numbers that have occurred more than once\n",
    "        self.tally = {k:v for (k,v) in self.tally.items() if len(v) > 1}\n",
    "\n",
    "#         print(self.tally)\n",
    "\n",
    "        # Start going through num:indices pairs\n",
    "        for num, indices in self.tally.items():\n",
    "            # Go through each index\n",
    "            for idx in indices:\n",
    "                \n",
    "                # get other indices where the difference is <= cutoff\n",
    "                other_indices = [j for j in indices if j is not idx and abs(idx - j) <= self.cutoff]\n",
    "                # If there are any, return True \n",
    "                if len(other_indices) > 0:\n",
    "                    return True\n",
    "\n",
    "        # made it through all index pairs of all numbers that occurred more than once, without finding\n",
    "        # a pair that worked.\n",
    "        return False\n",
    "\n",
    "    # Reflect: \n",
    "    # I could change this to eliminate the other_indices variable, and just if on the\n",
    "    # length of the comprehension\n",
    "    # I could build a loop instead of the comprehension, and return True at the first other index that\n",
    "    # satisfies\n",
    "    "
   ]
  },
  {
   "cell_type": "code",
   "execution_count": 3,
   "metadata": {},
   "outputs": [
    {
     "name": "stdout",
     "output_type": "stream",
     "text": [
      "NO\n"
     ]
    }
   ],
   "source": [
    "set1 = set('a')\n",
    "set2 = set('b')\n",
    "if set1 & set2:\n",
    "    print('YES')\n",
    "else:\n",
    "    print('NO')"
   ]
  }
 ],
 "metadata": {
  "kernelspec": {
   "display_name": "Python 3",
   "language": "python",
   "name": "python3"
  },
  "language_info": {
   "codemirror_mode": {
    "name": "ipython",
    "version": 3
   },
   "file_extension": ".py",
   "mimetype": "text/x-python",
   "name": "python",
   "nbconvert_exporter": "python",
   "pygments_lexer": "ipython3",
   "version": "3.7.6"
  }
 },
 "nbformat": 4,
 "nbformat_minor": 4
}
