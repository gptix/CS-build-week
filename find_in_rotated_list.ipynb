{
 "cells": [
  {
   "cell_type": "code",
   "execution_count": 66,
   "metadata": {},
   "outputs": [
    {
     "name": "stdout",
     "output_type": "stream",
     "text": [
      "low = 0\n",
      "high = 8\n",
      "mid = 4\n",
      "nums[mid] = 6\n",
      "here\n",
      "low now = 5\n",
      "mid = 6\n",
      "nums[mid] = 8\n"
     ]
    },
    {
     "data": {
      "text/plain": [
       "6"
      ]
     },
     "execution_count": 66,
     "metadata": {},
     "output_type": "execute_result"
    }
   ],
   "source": [
    "lst =  [2,3,4,5,6,7,8,9,1]\n",
    "# lst =  [4,5]\n",
    "\n",
    "# class Solution:\n",
    "    \n",
    "#     def search(self, nums: List[int], target: int) -> int:\n",
    "class Solution:\n",
    "    def search(self, nums: List[int], target: int) -> int:\n",
    "        \n",
    "# def search(nums, target):\n",
    "\n",
    "    \n",
    "        length = len(nums)\n",
    "        if len(nums) == 0:\n",
    "            return -1\n",
    "\n",
    "\n",
    "        low = 0\n",
    "        print(f'low = {low}')\n",
    "        high = length - 1\n",
    "        print(f'high = {high}')\n",
    "\n",
    "\n",
    "        while low <= high:\n",
    "            mid = (low + high) // 2\n",
    "            print(f'mid = {mid}')\n",
    "            print(f'nums[mid] = {nums[mid]}')\n",
    "\n",
    "            if nums[mid] == target:\n",
    "                return mid\n",
    "\n",
    "            elif nums[mid] < nums[low]:\n",
    "                if (target >= nums[low] and target >= nums[mid]) or (target <= nums[low] and target <= nums[mid]):\n",
    "                    high = mid - 1\n",
    "                else:\n",
    "                    low = mid + 1\n",
    "\n",
    "            else:\n",
    "                # Decide whether we should loop and search the right side of the list.\n",
    "                if (target > nums[low] and target > nums[mid]) or (target < nums[low] and target < nums[mid]):\n",
    "                    print('here')\n",
    "                    low = mid + 1\n",
    "                    print(f'low now = {low}')\n",
    "                else:\n",
    "                    high = mid - 1\n",
    "\n",
    "        return -1\n",
    "  \n",
    "search(lst, 8)"
   ]
  },
  {
   "cell_type": "code",
   "execution_count": 4,
   "metadata": {},
   "outputs": [
    {
     "ename": "SyntaxError",
     "evalue": "invalid syntax (<ipython-input-4-5a608e7a11ff>, line 31)",
     "output_type": "error",
     "traceback": [
      "\u001b[0;36m  File \u001b[0;32m\"<ipython-input-4-5a608e7a11ff>\"\u001b[0;36m, line \u001b[0;32m31\u001b[0m\n\u001b[0;31m    temp = binary_search(left half from 1 to mid - 1, target)\u001b[0m\n\u001b[0m                                 ^\u001b[0m\n\u001b[0;31mSyntaxError\u001b[0m\u001b[0;31m:\u001b[0m invalid syntax\n"
     ]
    }
   ],
   "source": [
    "def foo (lst, targ):\n",
    "    # simplest cases\n",
    "    if not lst:\n",
    "        return -1\n",
    "    \n",
    "    else:\n",
    "        l0_val = lst[0]\n",
    "        \n",
    "        if length == 1:\n",
    "            if l0_val == target:\n",
    "                return 0\n",
    "            else:\n",
    "                return -1\n",
    "            \n",
    "        length = len(lst)\n",
    "        mid = length // 2\n",
    "        mid_val = lst[mid]\n",
    "        end = length - 1\n",
    "\n",
    "        if mid_val == target:\n",
    "            return mid\n",
    "        \n",
    "        # We actually have to search\n",
    "        # Since the pivot can be in only one half of the list, we know the other \n",
    "        # is strictly ascending. On that side, we can do a binary search.\n",
    "        \n",
    "        elif l0 < mid_val:\n",
    "            # left side is ascending\n",
    "            \n",
    "            if l0_val < target and target < mid_val: # should do binary search on left\n",
    "                temp = binary_search(left half from 1 to mid - 1, target)\n",
    "                if temp == -1:\n",
    "                    return -1\n",
    "                else:\n",
    "                    return temp + 1 # correct for shorter list\n",
    "                \n",
    "            else: \n",
    "                # left side is ascending, but target cannot be there.\n",
    "                # Recurse on right side, and correct index on return.\n",
    "                temp = foo(lst[mid+1:]) # we already checked l0\n",
    "                if temp == -1:\n",
    "                    return -1\n",
    "                else:\n",
    "                    return mid + 1 + temp # since we checked a shorter list\n",
    "                \n",
    "        else:\n",
    "            # We know the right side is ascending.\n",
    "            if mid_val < target and target < end_val:\n",
    "                # target must exist (if exists) in left side\n",
    "                temp = binary_search(left_index, right_index, target)\n",
    "                if temp == -1:\n",
    "                    return -1\n",
    "                else: \n",
    "                    return temp + mid\n",
    "            else:\n",
    "                # Right side is ascending, but target cannot be there.\n",
    "                # Recurse on left side, and correct index on return.\n",
    "                temp = foo(lst[1:mid]) # we already checked l0 and mid\n",
    "                if temp == -1:\n",
    "                    return -1\n",
    "                else:\n",
    "                    return 1 + temp # since we checked a shorter list\n",
    "\n",
    "                \n",
    "            \n",
    "                        \n",
    "                        \n",
    "\n",
    "        "
   ]
  },
  {
   "cell_type": "code",
   "execution_count": null,
   "metadata": {},
   "outputs": [],
   "source": []
  }
 ],
 "metadata": {
  "kernelspec": {
   "display_name": "Python 3",
   "language": "python",
   "name": "python3"
  },
  "language_info": {
   "codemirror_mode": {
    "name": "ipython",
    "version": 3
   },
   "file_extension": ".py",
   "mimetype": "text/x-python",
   "name": "python",
   "nbconvert_exporter": "python",
   "pygments_lexer": "ipython3",
   "version": "3.7.6"
  }
 },
 "nbformat": 4,
 "nbformat_minor": 4
}
